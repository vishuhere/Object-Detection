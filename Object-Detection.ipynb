{
 "cells": [
  {
   "cell_type": "code",
   "execution_count": 1,
   "metadata": {},
   "outputs": [],
   "source": [
    "import mediapipe as mp\n",
    "import cv2\n",
    "import time  # For defining fps "
   ]
  },
  {
   "cell_type": "code",
   "execution_count": 2,
   "metadata": {},
   "outputs": [],
   "source": [
    "mp_objectron = mp.solutions.objectron  # For 3d object detection\n",
    "mp_drawing = mp.solutions.drawing_utils  # For drawing on images like 3d boundry boxes that we are going to detect and drag around in the image frame"
   ]
  },
  {
   "cell_type": "code",
   "execution_count": 3,
   "metadata": {},
   "outputs": [],
   "source": [
    "cap = cv2.VideoCapture(0)  #  Whatever the video will capture it will be stored in this cap folder it will tell us which camera to choose "
   ]
  },
  {
   "cell_type": "code",
   "execution_count": 4,
   "metadata": {
    "tags": []
   },
   "outputs": [],
   "source": [
    "with mp_objectron.Objectron(static_image_mode = False, #  Using video for object detection thats why False\n",
    "                            max_num_objects = 2,  #   Maximum number of objects to detect in a frame\n",
    "                            min_detection_confidence = 0.5,  #   only object detections with confidence scores greater than or equal to 0.5 will be considered valid.  the detected object belongs to a certain class and is correctly localized within the image.\n",
    "                            min_tracking_confidence = 0.8,  # Tracking the points should be at least this confidence level\n",
    "                            model_name= \"Cup\") as objectron:  #as objectron means Perform objectron-related operations using the 'objectron' object\n",
    "    \n",
    "    while cap.isOpened():  #  While our webcam is opened on the computer then we will perform the below task\n",
    "        \n",
    "        \n",
    "        success,image = cap.read()  #  cap.red will  read frames from the camera and store it into image variable and success will define weather the image is true or false.\n",
    "        start =  time.time()  # Starting time of how long it takes to process one image and have this 3d object detection algorithm running\n",
    "        \n",
    "        # Convert the BGR image to RGB\n",
    "        image = cv2.cvtColor(image, cv2.COLOR_BGR2RGB)\n",
    "        \n",
    "        # To improve performance, optionally mark the image as not writable\n",
    "        # To pass the reference\n",
    "        image.flags.writeable = False;   #  Any attempt to modify the image data will raise an error\n",
    "        results = objectron.process(image);  #  Processing  the frames and getting the output from it\n",
    "        \n",
    "        image.flags.writeable = True; #  Writeable flag is set to True to allow modifications to the array.\n",
    "        image = cv2.cvtColor(image, cv2.COLOR_RGB2BGR)\n",
    "        \n",
    "        if results.detected_objects: \n",
    "            for detected_objects in results.detected_objects:  #  The for loop is running through all the objects present in the image and storing it in the results variable\n",
    "                mp_drawing.draw_landmarks(image, detected_objects.landmarks_2d, mp_objectron.BOX_CONNECTIONS)\n",
    "                mp_drawing.draw_axis(image, detected_objects.rotation, detected_objects.translation)\n",
    "                \n",
    "        end =  time.time() \n",
    "        totalTime = end - start \n",
    "        fps = 1/totalTime  #  Dividing 1 by this value gives you the instantaneous FPS for that frame.\n",
    "        \n",
    "        cv2.putText(image, f'FPS: {int(fps)}', (20,70), cv2.FONT_HERSHEY_SIMPLEX, 1.5, (0,255,0), 2)\n",
    "        cv2.imshow('MediaPipe Objectron', image)\n",
    "        if cv2.waitKey (5) & 0xFF == 27:\n",
    "            break\n",
    "cap.release()\n",
    "cv2.destroyAllWindows()"
   ]
  }
 ],
 "metadata": {
  "kernelspec": {
   "display_name": "Python 3",
   "language": "python",
   "name": "python3"
  },
  "language_info": {
   "codemirror_mode": {
    "name": "ipython",
    "version": 3
   },
   "file_extension": ".py",
   "mimetype": "text/x-python",
   "name": "python",
   "nbconvert_exporter": "python",
   "pygments_lexer": "ipython3",
   "version": "3.11.5"
  }
 },
 "nbformat": 4,
 "nbformat_minor": 4
}
